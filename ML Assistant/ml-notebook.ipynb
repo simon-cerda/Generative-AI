{
 "cells": [
  {
   "cell_type": "markdown",
   "id": "bcfd8a26",
   "metadata": {},
   "source": [
    "## AAPL StockPricing Prediction"
   ]
  },
  {
   "cell_type": "markdown",
   "id": "deb1eac2",
   "metadata": {},
   "source": [
    "### Import Libraries"
   ]
  },
  {
   "cell_type": "code",
   "execution_count": 1,
   "id": "adbfb958",
   "metadata": {},
   "outputs": [
    {
     "name": "stderr",
     "output_type": "stream",
     "text": [
      "c:\\Users\\simon.cerda\\Anaconda3\\envs\\ml\\lib\\site-packages\\tqdm\\auto.py:21: TqdmWarning: IProgress not found. Please update jupyter and ipywidgets. See https://ipywidgets.readthedocs.io/en/stable/user_install.html\n",
      "  from .autonotebook import tqdm as notebook_tqdm\n",
      "Importing plotly failed. Interactive plots will not work.\n"
     ]
    }
   ],
   "source": [
    "import datetime\n",
    "import matplotlib.pyplot as plt\n",
    "import numpy as np\n",
    "import optuna\n",
    "import pandas as pd\n",
    "import yfinance as yf\n",
    "\n",
    "import pandas_datareader as pdr\n",
    "from prophet import Prophet\n",
    "from sklearn.metrics import mean_absolute_error, mean_squared_error\n",
    "from sklearn.model_selection import train_test_split\n",
    "from statsmodels.tsa.arima.model import ARIMA\n",
    "from xgboost import XGBRegressor\n",
    "\n",
    "from pmdarima import auto_arima\n",
    "\n",
    "import warnings\n",
    "warnings.filterwarnings(\"ignore\")\n",
    "plt.style.use('ggplot')"
   ]
  },
  {
   "cell_type": "markdown",
   "id": "fb2780b0",
   "metadata": {},
   "source": [
    "### APPL Stock Data"
   ]
  },
  {
   "cell_type": "code",
   "execution_count": 2,
   "id": "f668b32d",
   "metadata": {
    "_cell_guid": "b1076dfc-b9ad-4769-8c92-a6c4dae69d19",
    "_uuid": "8f2839f25d086af736a60e9eeb907d3b93b6e0e5",
    "execution": {
     "iopub.execute_input": "2024-03-15T04:41:42.595558Z",
     "iopub.status.busy": "2024-03-15T04:41:42.595209Z",
     "iopub.status.idle": "2024-03-15T04:41:50.559141Z",
     "shell.execute_reply": "2024-03-15T04:41:50.558236Z"
    },
    "papermill": {
     "duration": 7.98113,
     "end_time": "2024-03-15T04:41:50.561032",
     "exception": false,
     "start_time": "2024-03-15T04:41:42.579902",
     "status": "completed"
    },
    "tags": []
   },
   "outputs": [
    {
     "name": "stderr",
     "output_type": "stream",
     "text": [
      "[*********************100%%**********************]  1 of 1 completed\n"
     ]
    }
   ],
   "source": [
    "\n",
    "######################################################################################\n",
    "stock_data = yf.download('AAPL') # Download APPL stock data\n",
    "\n",
    "num_days_pred=30 # Number of days you want to predict in the future the higher the less accuracy\n",
    "######################################################################################\n",
    "\n",
    "# Here I choose to only use the last 3 years of stock data \n",
    "slice = int(len(stock_data)- 356*3)\n",
    "stock_data = stock_data.iloc[slice:]\n",
    "\n",
    "# Here I Choose to continue with only Close value column since that is what we care about \n",
    "stock_data.drop(columns=['Open', 'High', 'Low', 'Adj Close', 'Volume'],inplace=True)\n",
    "\n",
    "\n",
    "# Function to calculate mean absolute error percentage\n",
    "def mean_absolute_percentage_error(y_true, y_pred): \n",
    "    \"\"\"Calculates MAPE given y_true and y_pred\"\"\"\n",
    "    y_true, y_pred = np.array(y_true), np.array(y_pred)\n",
    "    return np.mean(np.abs((y_true - y_pred) / y_true)) * 100\n",
    "\n",
    "def add_lags(df,num_days_pred=num_days_pred):\n",
    "    target = 'Close'\n",
    "    df['lag1'] = df[target].shift(num_days_pred)  \n",
    "    df['lag2'] = df[target].shift(num_days_pred*2)    \n",
    "    df['lag3'] = df[target].shift(num_days_pred*3)    \n",
    "    df['lag4'] = df[target].shift(num_days_pred*4)    \n",
    "    df['lag5'] = df[target].shift(num_days_pred*5)\n",
    "    df['lag6'] = df[target].shift(num_days_pred*6)\n",
    "    df['lag7'] = df[target].shift(num_days_pred*7)\n",
    "    df['lag8'] = df[target].shift(num_days_pred*8)\n",
    "    df['lag9'] = df[target].shift(num_days_pred*9)\n",
    "    df['lag10'] = df[target].shift(num_days_pred*10)\n",
    "    df['lag11'] = df[target].shift(num_days_pred*11)\n",
    "    df['lag12'] = df[target].shift(num_days_pred*12)\n",
    "\n",
    "\n",
    "\n",
    "    return df\n",
    "\n",
    "def create_features(df):\n",
    "    \"\"\"\n",
    "    Create time series features based on time series index.\n",
    "    \"\"\"\n",
    "    df = df.copy()\n",
    "    df['hour'] = df.index.hour\n",
    "    df['dayofweek'] = df.index.dayofweek\n",
    "    df['quarter'] = df.index.quarter\n",
    "    df['month'] = df.index.month\n",
    "    df['year'] = df.index.year\n",
    "    df['dayofyear'] = df.index.dayofyear\n",
    "    df['dayofmonth'] = df.index.day\n",
    "    df['weekofyear'] = df.index.isocalendar().week\n",
    "    return df"
   ]
  },
  {
   "cell_type": "markdown",
   "id": "b5b45318",
   "metadata": {
    "papermill": {
     "duration": 0.013575,
     "end_time": "2024-03-15T04:41:50.588516",
     "exception": false,
     "start_time": "2024-03-15T04:41:50.574941",
     "status": "completed"
    },
    "tags": []
   },
   "source": [
    "# XGBOOST"
   ]
  },
  {
   "cell_type": "code",
   "execution_count": 3,
   "id": "718734ca",
   "metadata": {
    "execution": {
     "iopub.execute_input": "2024-03-15T04:41:50.618876Z",
     "iopub.status.busy": "2024-03-15T04:41:50.617893Z",
     "iopub.status.idle": "2024-03-15T04:41:50.623141Z",
     "shell.execute_reply": "2024-03-15T04:41:50.621984Z"
    },
    "papermill": {
     "duration": 0.022877,
     "end_time": "2024-03-15T04:41:50.625377",
     "exception": false,
     "start_time": "2024-03-15T04:41:50.602500",
     "status": "completed"
    },
    "tags": []
   },
   "outputs": [],
   "source": [
    "df_xgb = stock_data.copy()"
   ]
  },
  {
   "cell_type": "code",
   "execution_count": 4,
   "id": "da926f7d",
   "metadata": {
    "execution": {
     "iopub.execute_input": "2024-03-15T04:41:50.654984Z",
     "iopub.status.busy": "2024-03-15T04:41:50.654452Z",
     "iopub.status.idle": "2024-03-15T04:41:50.668844Z",
     "shell.execute_reply": "2024-03-15T04:41:50.668089Z"
    },
    "papermill": {
     "duration": 0.031803,
     "end_time": "2024-03-15T04:41:50.671131",
     "exception": false,
     "start_time": "2024-03-15T04:41:50.639328",
     "status": "completed"
    },
    "tags": []
   },
   "outputs": [],
   "source": [
    "def xgboostmodel(df_xgb,add_lags,create_features,num_days_pred=num_days_pred):\n",
    "\n",
    "    df_xgb = create_features(df_xgb)\n",
    "    df_xgb = add_lags(df_xgb)\n",
    "    \n",
    "    X = df_xgb.drop(columns='Close')\n",
    "    y = df_xgb['Close']\n",
    "    return X,y\n",
    "X,y = xgboostmodel(df_xgb ,add_lags,create_features,num_days_pred=30)"
   ]
  },
  {
   "cell_type": "code",
   "execution_count": 5,
   "id": "0fccc4fa",
   "metadata": {
    "execution": {
     "iopub.execute_input": "2024-03-15T04:41:50.700787Z",
     "iopub.status.busy": "2024-03-15T04:41:50.700195Z",
     "iopub.status.idle": "2024-03-15T04:42:51.431038Z",
     "shell.execute_reply": "2024-03-15T04:42:51.430316Z"
    },
    "papermill": {
     "duration": 60.747984,
     "end_time": "2024-03-15T04:42:51.432982",
     "exception": false,
     "start_time": "2024-03-15T04:41:50.684998",
     "status": "completed"
    },
    "tags": []
   },
   "outputs": [
    {
     "name": "stdout",
     "output_type": "stream",
     "text": [
      "Best trial:\n",
      "  Value: 3.258836452973074\n",
      "  Params: \n",
      "    n_estimators: 963\n",
      "    max_depth: 10\n",
      "    learning_rate: 0.07975803332551062\n",
      "    subsample: 0.7329416495919234\n",
      "    colsample_bytree: 0.6917664437681972\n",
      "    reg_alpha: 7.625232272087433\n",
      "    reg_lambda: 4.322000961443669\n",
      "Test RMSE: 3.258836452973074\n"
     ]
    }
   ],
   "source": [
    "# Define objective function for Optuna\n",
    "optuna.logging.set_verbosity(optuna.logging.WARNING)\n",
    "def objective(trial):\n",
    "    # Define hyperparameters to search\n",
    "    param = {\n",
    "        'objective': 'reg:squarederror',\n",
    "        'eval_metric': 'rmse',\n",
    "        'n_estimators': trial.suggest_int('n_estimators', 100, 1000),\n",
    "        'max_depth': trial.suggest_int('max_depth', 3, 10),\n",
    "        'learning_rate': trial.suggest_float('learning_rate', 0.01, 0.1),\n",
    "        'subsample': trial.suggest_float('subsample', 0.6, 1.0),\n",
    "        'colsample_bytree': trial.suggest_float('colsample_bytree', 0.6, 1.0),\n",
    "        'reg_alpha': trial.suggest_float('reg_alpha', 0, 10),\n",
    "        'reg_lambda': trial.suggest_float('reg_lambda', 0, 10),\n",
    "        'verbosity': 0,\n",
    "        #'tree_method': 'gpu_hist',\n",
    "    }\n",
    "    \n",
    "    # Initialize XGBoost regressor with the suggested parameters\n",
    "    xgb = XGBRegressor(**param)\n",
    "    \n",
    "    # Fit the model on training data\n",
    "    xgb.fit(X_train, y_train)\n",
    "    \n",
    "    # Predict on the validation set\n",
    "    y_pred = xgb.predict(X_test)\n",
    "    \n",
    "    # Calculate RMSE\n",
    "    rmse = np.sqrt(mean_squared_error(y_test, y_pred))\n",
    "    \n",
    "    return rmse\n",
    "\n",
    "\n",
    "X_train, X_test, y_train, y_test = train_test_split(X, y, test_size=0.3, random_state=42)\n",
    "# Perform hyperparameter optimization using Optuna\n",
    "study = optuna.create_study(direction='minimize')\n",
    "study.optimize(objective, n_trials=50)\n",
    "\n",
    "# Print the best trial and parameters found\n",
    "print(\"Best trial:\")\n",
    "best_trial = study.best_trial\n",
    "print(f\"  Value: {best_trial.value}\")\n",
    "print(\"  Params: \")\n",
    "for key, value in best_trial.params.items():\n",
    "    print(f\"    {key}: {value}\")\n",
    "\n",
    "# Use the best parameters to train the final model\n",
    "best_params = best_trial.params\n",
    "xgb_best = XGBRegressor(**best_params)\n",
    "xgb_best.fit(X_train, y_train,verbose=False)\n",
    "\n",
    "# Make predictions on the test set\n",
    "y_pred_test = xgb_best.predict(X_test)\n",
    "\n",
    "# Calculate RMSE on the test set\n",
    "rmse_test = np.sqrt(mean_squared_error(y_test, y_pred_test))\n",
    "print(\"Test RMSE:\", rmse_test)"
   ]
  },
  {
   "cell_type": "markdown",
   "id": "e2650482",
   "metadata": {
    "papermill": {
     "duration": 0.016178,
     "end_time": "2024-03-15T04:42:51.465991",
     "exception": false,
     "start_time": "2024-03-15T04:42:51.449813",
     "status": "completed"
    },
    "tags": []
   },
   "source": [
    "## Evaluate"
   ]
  },
  {
   "cell_type": "code",
   "execution_count": 6,
   "id": "315005a0",
   "metadata": {
    "execution": {
     "iopub.execute_input": "2024-03-15T04:42:51.501207Z",
     "iopub.status.busy": "2024-03-15T04:42:51.500553Z",
     "iopub.status.idle": "2024-03-15T04:42:51.518295Z",
     "shell.execute_reply": "2024-03-15T04:42:51.517578Z"
    },
    "papermill": {
     "duration": 0.038258,
     "end_time": "2024-03-15T04:42:51.520718",
     "exception": false,
     "start_time": "2024-03-15T04:42:51.482460",
     "status": "completed"
    },
    "tags": []
   },
   "outputs": [
    {
     "name": "stdout",
     "output_type": "stream",
     "text": [
      "ERROR PERCENT = 1.7773427235475343% \n"
     ]
    }
   ],
   "source": [
    "y_pred_test_xgb = xgb_best.predict(X_test)\n",
    "xgb_loss = mean_absolute_percentage_error(y_test, y_pred_test_xgb) \n",
    "print(f\"ERROR PERCENT = { mean_absolute_percentage_error(y_test, y_pred_test_xgb) }% \")"
   ]
  },
  {
   "cell_type": "code",
   "execution_count": 7,
   "id": "3be26444",
   "metadata": {},
   "outputs": [
    {
     "name": "stdout",
     "output_type": "stream",
     "text": [
      "year          0.508546\n",
      "lag9          0.247954\n",
      "lag12         0.079842\n",
      "lag8          0.046287\n",
      "lag1          0.033997\n",
      "lag2          0.016013\n",
      "lag4          0.013664\n",
      "lag3          0.012468\n",
      "lag11         0.007359\n",
      "weekofyear    0.006593\n",
      "lag7          0.005859\n",
      "month         0.005657\n",
      "dayofyear     0.005425\n",
      "quarter       0.004387\n",
      "lag5          0.002257\n",
      "lag10         0.002153\n",
      "lag6          0.000946\n",
      "dayofmonth    0.000393\n",
      "dayofweek     0.000201\n",
      "hour          0.000000\n",
      "dtype: float32\n"
     ]
    }
   ],
   "source": [
    "feature_importances = xgb_best.feature_importances_\n",
    "\n",
    "# To get the feature names\n",
    "feature_names = X_train.columns\n",
    "\n",
    "# Create a pandas series to visualize the feature importances\n",
    "importance_series = pd.Series(data=feature_importances, index=feature_names)\n",
    "\n",
    "# Sort the feature importances\n",
    "print(importance_series.sort_values(ascending=False))"
   ]
  },
  {
   "cell_type": "markdown",
   "id": "71903ce7",
   "metadata": {
    "papermill": {
     "duration": 0.072856,
     "end_time": "2024-03-15T04:42:53.065312",
     "exception": false,
     "start_time": "2024-03-15T04:42:52.992456",
     "status": "completed"
    },
    "tags": []
   },
   "source": [
    "# Prophet"
   ]
  },
  {
   "cell_type": "code",
   "execution_count": 8,
   "id": "46fb3da5",
   "metadata": {
    "execution": {
     "iopub.execute_input": "2024-03-15T04:42:53.105096Z",
     "iopub.status.busy": "2024-03-15T04:42:53.104756Z",
     "iopub.status.idle": "2024-03-15T04:42:53.110152Z",
     "shell.execute_reply": "2024-03-15T04:42:53.108623Z"
    },
    "papermill": {
     "duration": 0.027981,
     "end_time": "2024-03-15T04:42:53.112386",
     "exception": false,
     "start_time": "2024-03-15T04:42:53.084405",
     "status": "completed"
    },
    "tags": []
   },
   "outputs": [],
   "source": [
    "df_prophet = stock_data.copy()"
   ]
  },
  {
   "cell_type": "markdown",
   "id": "720c5fa3",
   "metadata": {
    "papermill": {
     "duration": 0.019632,
     "end_time": "2024-03-15T04:42:53.151658",
     "exception": false,
     "start_time": "2024-03-15T04:42:53.132026",
     "status": "completed"
    },
    "tags": []
   },
   "source": [
    "Split"
   ]
  },
  {
   "cell_type": "code",
   "execution_count": 9,
   "id": "4360cfaf",
   "metadata": {
    "execution": {
     "iopub.execute_input": "2024-03-15T04:42:53.191691Z",
     "iopub.status.busy": "2024-03-15T04:42:53.190909Z",
     "iopub.status.idle": "2024-03-15T04:42:53.198345Z",
     "shell.execute_reply": "2024-03-15T04:42:53.197044Z"
    },
    "papermill": {
     "duration": 0.030119,
     "end_time": "2024-03-15T04:42:53.200825",
     "exception": false,
     "start_time": "2024-03-15T04:42:53.170706",
     "status": "completed"
    },
    "tags": []
   },
   "outputs": [],
   "source": [
    "split_date = df_prophet.index[int(len(df_prophet) * 0.8)]\n",
    "train = df_prophet.loc[df_prophet.index <= split_date].copy()\n",
    "test = df_prophet.loc[df_prophet.index > split_date].copy()"
   ]
  },
  {
   "cell_type": "markdown",
   "id": "5929121a",
   "metadata": {
    "papermill": {
     "duration": 0.018992,
     "end_time": "2024-03-15T04:42:53.239068",
     "exception": false,
     "start_time": "2024-03-15T04:42:53.220076",
     "status": "completed"
    },
    "tags": []
   },
   "source": [
    "Preprocess"
   ]
  },
  {
   "cell_type": "code",
   "execution_count": 10,
   "id": "33d1fa60",
   "metadata": {
    "execution": {
     "iopub.execute_input": "2024-03-15T04:42:53.279656Z",
     "iopub.status.busy": "2024-03-15T04:42:53.279286Z",
     "iopub.status.idle": "2024-03-15T04:42:53.285316Z",
     "shell.execute_reply": "2024-03-15T04:42:53.284091Z"
    },
    "papermill": {
     "duration": 0.029493,
     "end_time": "2024-03-15T04:42:53.288025",
     "exception": false,
     "start_time": "2024-03-15T04:42:53.258532",
     "status": "completed"
    },
    "tags": []
   },
   "outputs": [],
   "source": [
    "# Format data for prophet model using ds and y\n",
    "train_prophet = train.reset_index() \\\n",
    "    .rename(columns={'Date':'ds',\n",
    "                     'Close':'y'})"
   ]
  },
  {
   "cell_type": "code",
   "execution_count": 11,
   "id": "f1a9d862",
   "metadata": {
    "execution": {
     "iopub.execute_input": "2024-03-15T04:42:53.329824Z",
     "iopub.status.busy": "2024-03-15T04:42:53.329479Z",
     "iopub.status.idle": "2024-03-15T04:42:53.340334Z",
     "shell.execute_reply": "2024-03-15T04:42:53.339390Z"
    },
    "papermill": {
     "duration": 0.034657,
     "end_time": "2024-03-15T04:42:53.342527",
     "exception": false,
     "start_time": "2024-03-15T04:42:53.307870",
     "status": "completed"
    },
    "tags": []
   },
   "outputs": [
    {
     "data": {
      "text/html": [
       "<div>\n",
       "<style scoped>\n",
       "    .dataframe tbody tr th:only-of-type {\n",
       "        vertical-align: middle;\n",
       "    }\n",
       "\n",
       "    .dataframe tbody tr th {\n",
       "        vertical-align: top;\n",
       "    }\n",
       "\n",
       "    .dataframe thead th {\n",
       "        text-align: right;\n",
       "    }\n",
       "</style>\n",
       "<table border=\"1\" class=\"dataframe\">\n",
       "  <thead>\n",
       "    <tr style=\"text-align: right;\">\n",
       "      <th></th>\n",
       "      <th>ds</th>\n",
       "      <th>y</th>\n",
       "    </tr>\n",
       "  </thead>\n",
       "  <tbody>\n",
       "    <tr>\n",
       "      <th>0</th>\n",
       "      <td>2020-02-05</td>\n",
       "      <td>80.362503</td>\n",
       "    </tr>\n",
       "    <tr>\n",
       "      <th>1</th>\n",
       "      <td>2020-02-06</td>\n",
       "      <td>81.302498</td>\n",
       "    </tr>\n",
       "    <tr>\n",
       "      <th>2</th>\n",
       "      <td>2020-02-07</td>\n",
       "      <td>80.007500</td>\n",
       "    </tr>\n",
       "    <tr>\n",
       "      <th>3</th>\n",
       "      <td>2020-02-10</td>\n",
       "      <td>80.387497</td>\n",
       "    </tr>\n",
       "    <tr>\n",
       "      <th>4</th>\n",
       "      <td>2020-02-11</td>\n",
       "      <td>79.902496</td>\n",
       "    </tr>\n",
       "    <tr>\n",
       "      <th>...</th>\n",
       "      <td>...</td>\n",
       "      <td>...</td>\n",
       "    </tr>\n",
       "    <tr>\n",
       "      <th>850</th>\n",
       "      <td>2023-06-22</td>\n",
       "      <td>187.000000</td>\n",
       "    </tr>\n",
       "    <tr>\n",
       "      <th>851</th>\n",
       "      <td>2023-06-23</td>\n",
       "      <td>186.679993</td>\n",
       "    </tr>\n",
       "    <tr>\n",
       "      <th>852</th>\n",
       "      <td>2023-06-26</td>\n",
       "      <td>185.270004</td>\n",
       "    </tr>\n",
       "    <tr>\n",
       "      <th>853</th>\n",
       "      <td>2023-06-27</td>\n",
       "      <td>188.059998</td>\n",
       "    </tr>\n",
       "    <tr>\n",
       "      <th>854</th>\n",
       "      <td>2023-06-28</td>\n",
       "      <td>189.250000</td>\n",
       "    </tr>\n",
       "  </tbody>\n",
       "</table>\n",
       "<p>855 rows × 2 columns</p>\n",
       "</div>"
      ],
      "text/plain": [
       "            ds           y\n",
       "0   2020-02-05   80.362503\n",
       "1   2020-02-06   81.302498\n",
       "2   2020-02-07   80.007500\n",
       "3   2020-02-10   80.387497\n",
       "4   2020-02-11   79.902496\n",
       "..         ...         ...\n",
       "850 2023-06-22  187.000000\n",
       "851 2023-06-23  186.679993\n",
       "852 2023-06-26  185.270004\n",
       "853 2023-06-27  188.059998\n",
       "854 2023-06-28  189.250000\n",
       "\n",
       "[855 rows x 2 columns]"
      ]
     },
     "execution_count": 11,
     "metadata": {},
     "output_type": "execute_result"
    }
   ],
   "source": [
    "train_prophet "
   ]
  },
  {
   "cell_type": "markdown",
   "id": "be9be3b8",
   "metadata": {
    "papermill": {
     "duration": 0.018808,
     "end_time": "2024-03-15T04:42:53.380493",
     "exception": false,
     "start_time": "2024-03-15T04:42:53.361685",
     "status": "completed"
    },
    "tags": []
   },
   "source": [
    "Training"
   ]
  },
  {
   "cell_type": "code",
   "execution_count": 12,
   "id": "7ec4b845",
   "metadata": {
    "execution": {
     "iopub.execute_input": "2024-03-15T04:42:53.420469Z",
     "iopub.status.busy": "2024-03-15T04:42:53.420112Z",
     "iopub.status.idle": "2024-03-15T04:42:54.060240Z",
     "shell.execute_reply": "2024-03-15T04:42:54.059319Z"
    },
    "papermill": {
     "duration": 0.66233,
     "end_time": "2024-03-15T04:42:54.062204",
     "exception": false,
     "start_time": "2024-03-15T04:42:53.399874",
     "status": "completed"
    },
    "tags": []
   },
   "outputs": [
    {
     "name": "stderr",
     "output_type": "stream",
     "text": [
      "18:56:00 - cmdstanpy - INFO - Chain [1] start processing\n",
      "18:56:01 - cmdstanpy - INFO - Chain [1] done processing\n"
     ]
    },
    {
     "data": {
      "text/plain": [
       "<prophet.forecaster.Prophet at 0x2198a1b2350>"
      ]
     },
     "execution_count": 12,
     "metadata": {},
     "output_type": "execute_result"
    }
   ],
   "source": [
    "prophet = Prophet()\n",
    "prophet.fit(train_prophet)"
   ]
  },
  {
   "cell_type": "code",
   "execution_count": 13,
   "id": "ee3b29b6",
   "metadata": {
    "execution": {
     "iopub.execute_input": "2024-03-15T04:42:54.105144Z",
     "iopub.status.busy": "2024-03-15T04:42:54.104799Z",
     "iopub.status.idle": "2024-03-15T04:42:54.545150Z",
     "shell.execute_reply": "2024-03-15T04:42:54.543719Z"
    },
    "papermill": {
     "duration": 0.463981,
     "end_time": "2024-03-15T04:42:54.547601",
     "exception": false,
     "start_time": "2024-03-15T04:42:54.083620",
     "status": "completed"
    },
    "tags": []
   },
   "outputs": [],
   "source": [
    "# Format data for prophet model using ds and y\n",
    "test_prophet = test.reset_index() \\\n",
    "    .rename(columns={'Date':'ds',\n",
    "                     'Close':'y'})\n",
    "test_predict = prophet.predict(test_prophet)"
   ]
  },
  {
   "cell_type": "markdown",
   "id": "08ba55ad",
   "metadata": {
    "papermill": {
     "duration": 0.020175,
     "end_time": "2024-03-15T04:42:54.587454",
     "exception": false,
     "start_time": "2024-03-15T04:42:54.567279",
     "status": "completed"
    },
    "tags": []
   },
   "source": [
    "Evaluating"
   ]
  },
  {
   "cell_type": "code",
   "execution_count": 14,
   "id": "836f8a7f",
   "metadata": {
    "execution": {
     "iopub.execute_input": "2024-03-15T04:42:54.629044Z",
     "iopub.status.busy": "2024-03-15T04:42:54.628678Z",
     "iopub.status.idle": "2024-03-15T04:42:54.635007Z",
     "shell.execute_reply": "2024-03-15T04:42:54.633340Z"
    },
    "papermill": {
     "duration": 0.029879,
     "end_time": "2024-03-15T04:42:54.636994",
     "exception": false,
     "start_time": "2024-03-15T04:42:54.607115",
     "status": "completed"
    },
    "tags": []
   },
   "outputs": [
    {
     "name": "stdout",
     "output_type": "stream",
     "text": [
      "ERROR PERCENT = 19.93958908909836% \n"
     ]
    }
   ],
   "source": [
    "porphet_loss = mean_absolute_percentage_error(test['Close'],test_predict['yhat'] )\n",
    "print(f\"ERROR PERCENT = { mean_absolute_percentage_error(test['Close'],test_predict['yhat'] ) }% \")"
   ]
  },
  {
   "cell_type": "markdown",
   "id": "0a0d3646",
   "metadata": {
    "papermill": {
     "duration": 0.023428,
     "end_time": "2024-03-15T04:42:57.189414",
     "exception": false,
     "start_time": "2024-03-15T04:42:57.165986",
     "status": "completed"
    },
    "tags": []
   },
   "source": [
    "# ARIMA"
   ]
  },
  {
   "cell_type": "code",
   "execution_count": 15,
   "id": "83aeec4e",
   "metadata": {
    "execution": {
     "iopub.execute_input": "2024-03-15T04:42:57.236974Z",
     "iopub.status.busy": "2024-03-15T04:42:57.236591Z",
     "iopub.status.idle": "2024-03-15T04:42:57.242110Z",
     "shell.execute_reply": "2024-03-15T04:42:57.241028Z"
    },
    "papermill": {
     "duration": 0.031043,
     "end_time": "2024-03-15T04:42:57.244042",
     "exception": false,
     "start_time": "2024-03-15T04:42:57.212999",
     "status": "completed"
    },
    "tags": []
   },
   "outputs": [],
   "source": [
    "df_arima = stock_data.copy()"
   ]
  },
  {
   "cell_type": "markdown",
   "id": "c1557a01",
   "metadata": {
    "papermill": {
     "duration": 0.022486,
     "end_time": "2024-03-15T04:42:57.290337",
     "exception": false,
     "start_time": "2024-03-15T04:42:57.267851",
     "status": "completed"
    },
    "tags": []
   },
   "source": [
    "Split"
   ]
  },
  {
   "cell_type": "code",
   "execution_count": 16,
   "id": "47ddd6a2",
   "metadata": {
    "execution": {
     "iopub.execute_input": "2024-03-15T04:42:57.339673Z",
     "iopub.status.busy": "2024-03-15T04:42:57.339249Z",
     "iopub.status.idle": "2024-03-15T04:42:57.348284Z",
     "shell.execute_reply": "2024-03-15T04:42:57.346596Z"
    },
    "papermill": {
     "duration": 0.03548,
     "end_time": "2024-03-15T04:42:57.350401",
     "exception": false,
     "start_time": "2024-03-15T04:42:57.314921",
     "status": "completed"
    },
    "tags": []
   },
   "outputs": [],
   "source": [
    "split_date = df_prophet.index[int(len(df_arima) * 0.8)]\n",
    "train_arima = df_arima.loc[df_arima.index <= split_date].copy()\n",
    "test_arima = df_arima.loc[df_arima.index > split_date].copy()"
   ]
  },
  {
   "cell_type": "markdown",
   "id": "927ebac3",
   "metadata": {
    "papermill": {
     "duration": 0.022025,
     "end_time": "2024-03-15T04:42:57.395655",
     "exception": false,
     "start_time": "2024-03-15T04:42:57.373630",
     "status": "completed"
    },
    "tags": []
   },
   "source": [
    "hyperparamter tuning "
   ]
  },
  {
   "cell_type": "code",
   "execution_count": 17,
   "id": "3e419dfb",
   "metadata": {
    "execution": {
     "iopub.execute_input": "2024-03-15T04:42:57.444422Z",
     "iopub.status.busy": "2024-03-15T04:42:57.444036Z",
     "iopub.status.idle": "2024-03-15T04:42:59.286284Z",
     "shell.execute_reply": "2024-03-15T04:42:59.285393Z"
    },
    "papermill": {
     "duration": 1.868303,
     "end_time": "2024-03-15T04:42:59.288379",
     "exception": false,
     "start_time": "2024-03-15T04:42:57.420076",
     "status": "completed"
    },
    "tags": []
   },
   "outputs": [
    {
     "name": "stdout",
     "output_type": "stream",
     "text": [
      "Performing stepwise search to minimize aic\n",
      " ARIMA(2,1,2)(0,0,0)[0] intercept   : AIC=4148.921, Time=0.55 sec\n",
      " ARIMA(0,1,0)(0,0,0)[0] intercept   : AIC=4145.049, Time=0.02 sec\n",
      " ARIMA(1,1,0)(0,0,0)[0] intercept   : AIC=4144.158, Time=0.06 sec\n",
      " ARIMA(0,1,1)(0,0,0)[0] intercept   : AIC=4143.969, Time=0.07 sec\n",
      " ARIMA(0,1,0)(0,0,0)[0]             : AIC=4144.905, Time=0.02 sec\n",
      " ARIMA(1,1,1)(0,0,0)[0] intercept   : AIC=4144.935, Time=0.16 sec\n",
      " ARIMA(0,1,2)(0,0,0)[0] intercept   : AIC=4145.170, Time=0.12 sec\n",
      " ARIMA(1,1,2)(0,0,0)[0] intercept   : AIC=4146.899, Time=0.42 sec\n",
      " ARIMA(0,1,1)(0,0,0)[0]             : AIC=4144.075, Time=0.03 sec\n",
      "\n",
      "Best model:  ARIMA(0,1,1)(0,0,0)[0] intercept\n",
      "Total fit time: 1.459 seconds\n",
      "(0, 1, 1)\n"
     ]
    }
   ],
   "source": [
    "# Try to find the best parameters for arima model \n",
    "stepwise_fit = auto_arima(train_arima['Close'],trace=True,suppress_warnings=True)\n",
    "# assign the parameter to \"best_order\" variable\n",
    "best_order = stepwise_fit.get_params()['order']\n",
    "print(best_order)"
   ]
  },
  {
   "cell_type": "markdown",
   "id": "b6b8a610",
   "metadata": {
    "papermill": {
     "duration": 0.022573,
     "end_time": "2024-03-15T04:42:59.333776",
     "exception": false,
     "start_time": "2024-03-15T04:42:59.311203",
     "status": "completed"
    },
    "tags": []
   },
   "source": [
    "train"
   ]
  },
  {
   "cell_type": "code",
   "execution_count": 18,
   "id": "d7e7db8a",
   "metadata": {
    "execution": {
     "iopub.execute_input": "2024-03-15T04:42:59.382634Z",
     "iopub.status.busy": "2024-03-15T04:42:59.381965Z",
     "iopub.status.idle": "2024-03-15T04:42:59.415117Z",
     "shell.execute_reply": "2024-03-15T04:42:59.414433Z"
    },
    "papermill": {
     "duration": 0.060175,
     "end_time": "2024-03-15T04:42:59.417083",
     "exception": false,
     "start_time": "2024-03-15T04:42:59.356908",
     "status": "completed"
    },
    "tags": []
   },
   "outputs": [],
   "source": [
    "arima = ARIMA(train_arima['Close'], order=best_order)\n",
    "arima = arima.fit()"
   ]
  },
  {
   "cell_type": "markdown",
   "id": "5e10a8e9",
   "metadata": {
    "papermill": {
     "duration": 0.021943,
     "end_time": "2024-03-15T04:42:59.461611",
     "exception": false,
     "start_time": "2024-03-15T04:42:59.439668",
     "status": "completed"
    },
    "tags": []
   },
   "source": [
    "evaluate"
   ]
  },
  {
   "cell_type": "code",
   "execution_count": 19,
   "id": "d9ff9537",
   "metadata": {
    "execution": {
     "iopub.execute_input": "2024-03-15T04:42:59.508574Z",
     "iopub.status.busy": "2024-03-15T04:42:59.508203Z",
     "iopub.status.idle": "2024-03-15T04:42:59.512203Z",
     "shell.execute_reply": "2024-03-15T04:42:59.511412Z"
    },
    "papermill": {
     "duration": 0.029458,
     "end_time": "2024-03-15T04:42:59.513965",
     "exception": false,
     "start_time": "2024-03-15T04:42:59.484507",
     "status": "completed"
    },
    "tags": []
   },
   "outputs": [],
   "source": [
    "start = len(train_arima)\n",
    "end = len(test_arima) + len(train_arima)"
   ]
  },
  {
   "cell_type": "code",
   "execution_count": 20,
   "id": "aace1a42",
   "metadata": {
    "execution": {
     "iopub.execute_input": "2024-03-15T04:42:59.559517Z",
     "iopub.status.busy": "2024-03-15T04:42:59.559170Z",
     "iopub.status.idle": "2024-03-15T04:42:59.571232Z",
     "shell.execute_reply": "2024-03-15T04:42:59.570398Z"
    },
    "papermill": {
     "duration": 0.037023,
     "end_time": "2024-03-15T04:42:59.573154",
     "exception": false,
     "start_time": "2024-03-15T04:42:59.536131",
     "status": "completed"
    },
    "tags": []
   },
   "outputs": [],
   "source": [
    "pred_arima = arima.predict(start=start,end=end-1)"
   ]
  },
  {
   "cell_type": "code",
   "execution_count": 21,
   "id": "8b901a0e",
   "metadata": {
    "execution": {
     "iopub.execute_input": "2024-03-15T04:42:59.620318Z",
     "iopub.status.busy": "2024-03-15T04:42:59.619946Z",
     "iopub.status.idle": "2024-03-15T04:42:59.624657Z",
     "shell.execute_reply": "2024-03-15T04:42:59.623650Z"
    },
    "papermill": {
     "duration": 0.030336,
     "end_time": "2024-03-15T04:42:59.626304",
     "exception": false,
     "start_time": "2024-03-15T04:42:59.595968",
     "status": "completed"
    },
    "tags": []
   },
   "outputs": [],
   "source": [
    "pred_arima.index = test_arima.index"
   ]
  },
  {
   "cell_type": "code",
   "execution_count": 22,
   "id": "fa1b4edf",
   "metadata": {
    "execution": {
     "iopub.execute_input": "2024-03-15T04:43:00.020859Z",
     "iopub.status.busy": "2024-03-15T04:43:00.020493Z",
     "iopub.status.idle": "2024-03-15T04:43:00.029258Z",
     "shell.execute_reply": "2024-03-15T04:43:00.028108Z"
    },
    "papermill": {
     "duration": 0.035826,
     "end_time": "2024-03-15T04:43:00.031838",
     "exception": false,
     "start_time": "2024-03-15T04:42:59.996012",
     "status": "completed"
    },
    "tags": []
   },
   "outputs": [
    {
     "name": "stdout",
     "output_type": "stream",
     "text": [
      "ERROR PERCENT = 5.373443181845581% \n"
     ]
    }
   ],
   "source": [
    "arima_loss = mean_absolute_percentage_error(test_arima['Close'],pred_arima )\n",
    "print(f\"ERROR PERCENT = { mean_absolute_percentage_error(test_arima['Close'],pred_arima ) }% \")"
   ]
  },
  {
   "cell_type": "code",
   "execution_count": 23,
   "id": "55d10061",
   "metadata": {
    "execution": {
     "iopub.execute_input": "2024-03-15T04:43:15.374120Z",
     "iopub.status.busy": "2024-03-15T04:43:15.373751Z",
     "iopub.status.idle": "2024-03-15T04:43:15.379200Z",
     "shell.execute_reply": "2024-03-15T04:43:15.378256Z"
    },
    "papermill": {
     "duration": 0.034119,
     "end_time": "2024-03-15T04:43:15.381099",
     "exception": false,
     "start_time": "2024-03-15T04:43:15.346980",
     "status": "completed"
    },
    "tags": []
   },
   "outputs": [
    {
     "name": "stdout",
     "output_type": "stream",
     "text": [
      "XGB Acc : 98.22265727645247 \n",
      "Arima Acc : 94.62655681815441\n",
      "Prophet Acc : 80.06041091090164\n"
     ]
    }
   ],
   "source": [
    "print(f\"XGB Acc : {100-xgb_loss} \\nArima Acc : {100-arima_loss}\\nProphet Acc : {100- porphet_loss}\")"
   ]
  }
 ],
 "metadata": {
  "kaggle": {
   "accelerator": "none",
   "dataSources": [
    {
     "datasetId": 4113746,
     "sourceId": 7137832,
     "sourceType": "datasetVersion"
    },
    {
     "datasetId": 1387282,
     "sourceId": 2312307,
     "sourceType": "datasetVersion"
    },
    {
     "datasetId": 4538,
     "sourceId": 7213,
     "sourceType": "datasetVersion"
    },
    {
     "datasetId": 854,
     "sourceId": 1575,
     "sourceType": "datasetVersion"
    },
    {
     "datasetId": 541298,
     "sourceId": 1054465,
     "sourceType": "datasetVersion"
    },
    {
     "datasetId": 516765,
     "sourceId": 1804596,
     "sourceType": "datasetVersion"
    },
    {
     "datasetId": 695933,
     "sourceId": 1217821,
     "sourceType": "datasetVersion"
    },
    {
     "datasetId": 1436765,
     "sourceId": 3358622,
     "sourceType": "datasetVersion"
    },
    {
     "datasetId": 1908,
     "sourceId": 17155,
     "sourceType": "datasetVersion"
    },
    {
     "sourceId": 117825740,
     "sourceType": "kernelVersion"
    },
    {
     "sourceId": 2586767,
     "sourceType": "kernelVersion"
    },
    {
     "sourceId": 2395222,
     "sourceType": "kernelVersion"
    },
    {
     "sourceId": 4287243,
     "sourceType": "kernelVersion"
    },
    {
     "sourceId": 50878731,
     "sourceType": "kernelVersion"
    },
    {
     "sourceId": 1161410,
     "sourceType": "kernelVersion"
    },
    {
     "sourceId": 1008777,
     "sourceType": "kernelVersion"
    },
    {
     "sourceId": 5605182,
     "sourceType": "kernelVersion"
    }
   ],
   "dockerImageVersionId": 30664,
   "isGpuEnabled": false,
   "isInternetEnabled": true,
   "language": "python",
   "sourceType": "notebook"
  },
  "kernelspec": {
   "display_name": "Python 3",
   "language": "python",
   "name": "python3"
  },
  "language_info": {
   "codemirror_mode": {
    "name": "ipython",
    "version": 3
   },
   "file_extension": ".py",
   "mimetype": "text/x-python",
   "name": "python",
   "nbconvert_exporter": "python",
   "pygments_lexer": "ipython3",
   "version": "3.10.14"
  },
  "papermill": {
   "default_parameters": {},
   "duration": 138.699223,
   "end_time": "2024-03-15T04:43:16.328915",
   "environment_variables": {},
   "exception": null,
   "input_path": "__notebook__.ipynb",
   "output_path": "__notebook__.ipynb",
   "parameters": {},
   "start_time": "2024-03-15T04:40:57.629692",
   "version": "2.5.0"
  }
 },
 "nbformat": 4,
 "nbformat_minor": 5
}
