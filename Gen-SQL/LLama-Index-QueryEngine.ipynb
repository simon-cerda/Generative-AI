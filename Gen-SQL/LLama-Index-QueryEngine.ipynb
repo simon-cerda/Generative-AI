{
 "cells": [
  {
   "cell_type": "markdown",
   "metadata": {},
   "source": [
    "# SQL Query Engine Llama-Index"
   ]
  },
  {
   "cell_type": "markdown",
   "metadata": {},
   "source": [
    "### Connecting to MYSQL"
   ]
  },
  {
   "cell_type": "code",
   "execution_count": 36,
   "metadata": {},
   "outputs": [],
   "source": [
    "from sqlalchemy import create_engine,URL,MetaData,Text\n",
    "\n",
    "url_object = URL.create(\n",
    "    \"mysql+mysqldb\",\n",
    "    username=\"root\",\n",
    "    password=\"<your_password>\", \n",
    "    host=\"<your_host>\",\n",
    "    database=\"classicmodels\",\n",
    ")\n",
    "engine = create_engine(url_object)"
   ]
  },
  {
   "cell_type": "code",
   "execution_count": null,
   "metadata": {},
   "outputs": [],
   "source": [
    "conn = engine.connection"
   ]
  },
  {
   "cell_type": "code",
   "execution_count": 30,
   "metadata": {},
   "outputs": [],
   "source": [
    "from sqlalchemy import inspect\n",
    "\n",
    "insp = inspect(engine)\n",
    "tables_names=insp.get_table_names()"
   ]
  },
  {
   "cell_type": "markdown",
   "metadata": {},
   "source": [
    "### Creating SQLDatabase Object"
   ]
  },
  {
   "cell_type": "code",
   "execution_count": 26,
   "metadata": {},
   "outputs": [
    {
     "name": "stdout",
     "output_type": "stream",
     "text": [
      "env: OPENAI_API_KEY=sk-proj-FGqvJX2CbFZuge9GQBpKT3BlbkFJVSOvDUQglDrc8M8l9ILZ\n"
     ]
    }
   ],
   "source": [
    "from llama_index.llms.openai import OpenAI\n",
    "\n",
    "api_key = '' \n",
    "%env OPENAI_API_KEY={api_key}\n",
    "\n",
    "llm = OpenAI(temperature=0.1, model=\"gpt-3.5-turbo-0125\")"
   ]
  },
  {
   "cell_type": "code",
   "execution_count": 48,
   "metadata": {},
   "outputs": [],
   "source": [
    "from llama_index.core.prompts.base import PromptTemplate\n",
    "from llama_index.core.prompts.prompt_type import PromptType\n",
    "\n",
    "TEXT_TO_SQL_TMPL = (\n",
    "    \"Given an input question, first create a syntactically correct {dialect} \"\n",
    "    \"query to run, then look at the results of the query and return the answer. \"\n",
    "    \"You can order the results by a relevant column to return the most \"\n",
    "    \"interesting examples in the database.\\n\\n\"\n",
    "    \"Never query for all the columns from a specific table, only ask for a \"\n",
    "    \"few relevant columns given the question.\\n\\n\"\n",
    "    \"Pay attention to use only the column names that you can see in the schema \"\n",
    "    \"description. \"\n",
    "    \"Be careful to not query for columns that do not exist. \"\n",
    "    \"Pay attention to which column is in which table. \"\n",
    "    \"Also, qualify column names with the table name when needed. \"\n",
    "    \"Pay attetntion to use unique Alias for tables.\"\n",
    "    \"You are required to use the following format, each taking one line:\\n\\n\"\n",
    "    \"Question: Question here\\n\"\n",
    "    \"SQLQuery: SQL Query to run\\n\"\n",
    "    \"SQLResult: Result of the SQLQuery\\n\"\n",
    "    \"Answer: Final answer here\\n\\n\"\n",
    "    \"Only use tables listed below.\\n\"\n",
    "    \"{schema}\\n\\n\"\n",
    "    \"Question: {query_str}\\n\"\n",
    "    \"SQLQuery: \"\n",
    ")\n",
    "TEXT_TO_SQL_PROMPT = PromptTemplate(\n",
    "    TEXT_TO_SQL_TMPL,\n",
    "    prompt_type=PromptType.TEXT_TO_SQL,\n",
    ")"
   ]
  },
  {
   "cell_type": "code",
   "execution_count": 49,
   "metadata": {},
   "outputs": [],
   "source": [
    "from llama_index.core.indices.struct_store.sql_query import (\n",
    "    SQLTableRetrieverQueryEngine,\n",
    ")\n",
    "from llama_index.core.objects import (\n",
    "    SQLTableNodeMapping,\n",
    "    ObjectIndex,\n",
    "    SQLTableSchema,\n",
    ")\n",
    "from llama_index.core import VectorStoreIndex\n",
    "from llama_index.core import SQLDatabase\n",
    "metadata_obj = MetaData()\n",
    "metadata_obj.create_all(engine)\n",
    "sql_database = SQLDatabase(engine, include_tables=tables_names)\n",
    "\n",
    "# set Logging to DEBUG for more detailed outputs\n",
    "table_node_mapping = SQLTableNodeMapping(sql_database)\n",
    "table_schema_objs = [(SQLTableSchema(table_name=table_name_)) for table_name_ in tables_names]# add a SQLTableSchema for each table\n",
    "obj_index = ObjectIndex.from_objects(\n",
    "    table_schema_objs,\n",
    "    table_node_mapping,\n",
    "    VectorStoreIndex,\n",
    ")\n",
    "query_engine = SQLTableRetrieverQueryEngine(\n",
    "    sql_database, obj_index.as_retriever(similarity_top_k=3),llm=llm,text_to_sql_prompt=TEXT_TO_SQL_PROMPT\n",
    ")"
   ]
  },
  {
   "cell_type": "markdown",
   "metadata": {},
   "source": [
    "## Questions"
   ]
  },
  {
   "cell_type": "code",
   "execution_count": null,
   "metadata": {},
   "outputs": [],
   "source": [
    "import time\n",
    "import pandas as pd\n",
    "\n",
    "df_benchmark = pd.DataFrame(columns=['question','answer','sql','time'])\n",
    "n_tests = 1"
   ]
  },
  {
   "cell_type": "markdown",
   "metadata": {},
   "source": [
    "### 1. schema"
   ]
  },
  {
   "cell_type": "code",
   "execution_count": 32,
   "metadata": {},
   "outputs": [
    {
     "name": "stdout",
     "output_type": "stream",
     "text": [
      "time:  12.599762678146362\n",
      "Model Answer: \n",
      "\n",
      "The top 5 sales representatives in each office based on their cumulative sales are as follows:\n",
      "- In the San Francisco office, Leslie Jennings has total sales of $989,906.55 and Leslie Thompson has total sales of $347,533.03.\n",
      "- In the Boston office, Steve Patterson has total sales of $449,219.13 and Julie Firrelli has total sales of $386,663.20.\n",
      "- In the NYC office, George Vanauf has total sales of $584,406.80.\n",
      "\n",
      "SQL: \n",
      "\n",
      "SELECT e.employeeNumber, e.firstName, e.lastName, o.officeCode, o.city, SUM(p.amount) AS total_sales\n",
      "FROM employees e\n",
      "JOIN offices o ON e.officeCode = o.officeCode\n",
      "JOIN customers c ON e.employeeNumber = c.salesRepEmployeeNumber\n",
      "JOIN payments p ON c.customerNumber = p.customerNumber\n",
      "GROUP BY e.employeeNumber, o.officeCode\n",
      "ORDER BY o.officeCode, total_sales DESC\n",
      "LIMIT 5;\n"
     ]
    }
   ],
   "source": [
    "query_str=\"List the top 5 sales representatives in each office based on their cumulative sales.\"\n",
    "\n",
    "add_times=0\n",
    "n_test = n_tests\n",
    "for _ in range(n_test):\n",
    "    start = time.time()\n",
    "    response = query_engine.query(query_str)\n",
    "    end = time.time()\n",
    "    add_times+=end-start\n",
    "\n",
    "print('time: ',add_times/n_test)\n",
    "print('Model Answer: \\n')\n",
    "print(response.response)\n",
    "print('\\nSQL: \\n')\n",
    "print(response.metadata['sql_query'])\n",
    "\n",
    "row = [query_str, response, response.metadata['sql_query'],add_times/n_test]\n",
    "df_benchmark.loc[len(df_benchmark)] = row\n"
   ]
  },
  {
   "cell_type": "markdown",
   "metadata": {},
   "source": [
    "### 2. SELECT"
   ]
  },
  {
   "cell_type": "code",
   "execution_count": 64,
   "metadata": {},
   "outputs": [
    {
     "name": "stdout",
     "output_type": "stream",
     "text": [
      "time:  7.1656646728515625\n",
      "Model Answer: \n",
      "\n",
      "There are 2 customers from Denmark.\n",
      "\n",
      "SQL: \n",
      "\n",
      "SELECT COUNT(customerNumber) AS num_customers\n",
      "FROM customers\n",
      "WHERE country = 'Denmark';\n"
     ]
    }
   ],
   "source": [
    "query_str = \"How many clientes are from Dinamarca\" \n",
    "\n",
    "add_times=0\n",
    "n_test = n_tests\n",
    "for _ in range(n_test):\n",
    "    start = time.time()\n",
    "    response = query_engine.query(query_str)\n",
    "    end = time.time()\n",
    "    add_times+=end-start\n",
    "\n",
    "print('time: ',add_times/n_test)\n",
    "print('Model Answer: \\n')\n",
    "print(response.response)\n",
    "print('\\nSQL: \\n')\n",
    "print(response.metadata['sql_query'])\n",
    "\n",
    "row = [query_str, response, response.metadata['sql_query'],add_times/n_test]\n",
    "df_benchmark.loc[len(df_benchmark)] = row\n"
   ]
  },
  {
   "cell_type": "markdown",
   "metadata": {},
   "source": [
    "### 3. JOIN table"
   ]
  },
  {
   "cell_type": "code",
   "execution_count": 19,
   "metadata": {},
   "outputs": [
    {
     "name": "stdout",
     "output_type": "stream",
     "text": [
      "time:  14.020272731781006\n",
      "Model Answer: \n",
      "\n",
      "The 10 latest orders are as follows:\n",
      "1. Order Number: 10424, Customer Name: Euro+ Shopping Channel, Order Date: May 31, 2005\n",
      "2. Order Number: 10425, Customer Name: La Rochelle Gifts, Order Date: May 31, 2005\n",
      "3. Order Number: 10422, Customer Name: Diecast Classics Inc., Order Date: May 30, 2005\n",
      "4. Order Number: 10423, Customer Name: Petit Auto, Order Date: May 30, 2005\n",
      "5. Order Number: 10420, Customer Name: Souveniers And Things Co., Order Date: May 29, 2005\n",
      "6. Order Number: 10421, Customer Name: Mini Gifts Distributors Ltd., Order Date: May 29, 2005\n",
      "7. Order Number: 10419, Customer Name: Salzburg Collectables, Order Date: May 17, 2005\n",
      "8. Order Number: 10418, Customer Name: Extreme Desk Decorations, Ltd, Order Date: May 16, 2005\n",
      "9. Order Number: 10417, Customer Name: Euro+ Shopping Channel, Order Date: May 13, 2005\n",
      "10. Order Number: 10416, Customer Name: L'ordine Souveniers, Order Date: May 10, 2005\n",
      "\n",
      "SQL: \n",
      "\n",
      "SELECT o.orderNumber, c.customerName, o.orderDate\n",
      "FROM orders o\n",
      "JOIN customers c ON o.customerNumber = c.customerNumber\n",
      "ORDER BY o.orderDate DESC\n",
      "LIMIT 10;\n"
     ]
    }
   ],
   "source": [
    "query_str = \"List the 10 lasts orders pair with the customer name and order date.\" \n",
    "\n",
    "add_times=0\n",
    "n_test = n_tests\n",
    "\n",
    "for _ in range(n_test):\n",
    "    start = time.time()\n",
    "    response = query_engine.query(query_str)\n",
    "    end = time.time()\n",
    "    add_times+=end-start\n",
    "\n",
    "print('time: ',add_times/n_test)\n",
    "print('Model Answer: \\n')\n",
    "print(response.response)\n",
    "print('\\nSQL: \\n')\n",
    "print(response.metadata['sql_query'])\n",
    "\n",
    "row = [query_str, response, response.metadata['sql_query'],add_times/n_test]\n",
    "df_benchmark.loc[len(df_benchmark)] = row"
   ]
  },
  {
   "cell_type": "markdown",
   "metadata": {},
   "source": [
    "### 4. JOIN and SUM"
   ]
  },
  {
   "cell_type": "code",
   "execution_count": 20,
   "metadata": {},
   "outputs": [
    {
     "name": "stdout",
     "output_type": "stream",
     "text": [
      "time:  15.206795454025269\n",
      "Model Answer: \n",
      "\n",
      "The total amount spent by the top 10 customers are as follows:\n",
      "1. Euro+ Shopping Channel: $715,738.98\n",
      "2. Mini Gifts Distributors Ltd.: $584,188.24\n",
      "3. Australian Collectors, Co.: $180,585.07\n",
      "4. Muscle Machine Inc: $177,913.95\n",
      "5. Dragon Souveniers, Ltd.: $156,251.03\n",
      "6. Down Under Souveniers, Inc: $154,622.08\n",
      "7. AV Stores, Co.: $148,410.09\n",
      "8. Anna's Decorations, Ltd: $137,034.22\n",
      "9. Corporate Gift Ideas Co.: $132,340.78\n",
      "10. Saveley & Henriot, Co.: $130,305.35\n",
      "\n",
      "SQL: \n",
      "\n",
      "SELECT c.customerNumber, c.customerName, SUM(p.amount) AS total_amount\n",
      "FROM customers c\n",
      "JOIN payments p ON c.customerNumber = p.customerNumber\n",
      "GROUP BY c.customerNumber, c.customerName\n",
      "ORDER BY total_amount DESC\n",
      "LIMIT 10;\n"
     ]
    }
   ],
   "source": [
    "query_str = \"Find the total amount spent by the top 10 customer.\" \n",
    "add_times=0\n",
    "n_test = n_tests\n",
    "\n",
    "for _ in range(n_test):\n",
    "    start = time.time()\n",
    "    response = query_engine.query(query_str)\n",
    "    end = time.time()\n",
    "    add_times+=end-start\n",
    "\n",
    "print('time: ',add_times/n_test)\n",
    "print('Model Answer: \\n')\n",
    "print(response.response)\n",
    "print('\\nSQL: \\n')\n",
    "print(response.metadata['sql_query'])\n",
    "\n",
    "row = [query_str, response, response.metadata['sql_query'],add_times/n_test]\n",
    "df_benchmark.loc[len(df_benchmark)] = row"
   ]
  },
  {
   "cell_type": "markdown",
   "metadata": {},
   "source": [
    "### 5."
   ]
  },
  {
   "cell_type": "code",
   "execution_count": 21,
   "metadata": {},
   "outputs": [
    {
     "name": "stdout",
     "output_type": "stream",
     "text": [
      "time:  10.256795644760132\n",
      "Model Answer: \n",
      "\n",
      "The SQL query provided is invalid. Please review the syntax and structure of the query to ensure it is correctly formatted.\n",
      "\n",
      "SQL: \n",
      "\n",
      "SELECT productCode, productName, SUM(quantityOrdered) AS totalQuantity\n",
      "FROM products\n",
      "JOIN orderdetails ON products.productCode = orderdetails.productCode\n",
      "GROUP BY productCode, productName\n",
      "ORDER BY totalQuantity DESC;\n"
     ]
    }
   ],
   "source": [
    "query_str = \"Show the total quantity of each product ordered by customers along with their corresponding product codes and names.\" \n",
    "add_times=0\n",
    "n_test = n_tests\n",
    "\n",
    "for _ in range(n_test):\n",
    "    start = time.time()\n",
    "    response = query_engine.query(query_str)\n",
    "    end = time.time()\n",
    "    add_times+=end-start\n",
    "\n",
    "print('time: ',add_times/n_test)\n",
    "print('Model Answer: \\n')\n",
    "print(response.response)\n",
    "print('\\nSQL: \\n')\n",
    "print(response.metadata['sql_query'])\n",
    "\n",
    "row = [query_str, response, response.metadata['sql_query'],add_times/n_test]\n",
    "df_benchmark.loc[len(df_benchmark)] = row"
   ]
  },
  {
   "cell_type": "markdown",
   "metadata": {},
   "source": [
    "### 6."
   ]
  },
  {
   "cell_type": "code",
   "execution_count": 22,
   "metadata": {},
   "outputs": [
    {
     "name": "stdout",
     "output_type": "stream",
     "text": [
      "time:  10.90698516368866\n",
      "Model Answer: \n",
      "\n",
      "It appears that there was an error in the SQL query provided. Please double-check the syntax and try running the query again to obtain the average payment amount based on the customer's credit limit.\n",
      "\n",
      "SQL: \n",
      "\n",
      "SELECT c.customerNumber, c.creditLimit, AVG(p.amount) AS avg_payment_amount\n",
      "FROM customers c\n",
      "JOIN payments p ON c.customerNumber = p.customerNumber\n",
      "GROUP BY c.creditLimit\n",
      "ORDER BY avg_payment_amount DESC;\n"
     ]
    }
   ],
   "source": [
    "query_str = \"How does the average payment amount vary based on the customer's credit limit?\" \n",
    "add_times=0\n",
    "n_test = n_tests\n",
    "\n",
    "for _ in range(n_test):\n",
    "    start = time.time()\n",
    "    response = query_engine.query(query_str)\n",
    "    end = time.time()\n",
    "    add_times+=end-start\n",
    "\n",
    "print('time: ',add_times/n_test)\n",
    "print('Model Answer: \\n')\n",
    "print(response.response)\n",
    "print('\\nSQL: \\n')\n",
    "print(response.metadata['sql_query'])\n",
    "\n",
    "row = [query_str, response, response.metadata['sql_query'],add_times/n_test]\n",
    "df_benchmark.loc[len(df_benchmark)] = row"
   ]
  },
  {
   "cell_type": "markdown",
   "metadata": {},
   "source": [
    "### 7. using two joins"
   ]
  },
  {
   "cell_type": "code",
   "execution_count": 23,
   "metadata": {},
   "outputs": [
    {
     "name": "stdout",
     "output_type": "stream",
     "text": [
      "time:  36.17472290992737\n",
      "Model Answer: \n",
      "\n",
      "The employees and their managers from San Francisco are as follows:\n",
      "- Anthony Bow is managed by Mary Patterson\n",
      "- Jeff Firrelli is managed by Diane Murphy\n",
      "- Leslie Jennings is managed by Anthony Bow\n",
      "- Mary Patterson is managed by Diane Murphy\n",
      "- Leslie Thompson is managed by Anthony Bow\n",
      "\n",
      "SQL: \n",
      "\n",
      "SELECT e1.firstName AS employeeFirstName, e1.lastName AS employeeLastName, e2.firstName AS managerFirstName, e2.lastName AS managerLastName\n",
      "FROM employees e1\n",
      "JOIN employees e2 ON e1.reportsTo = e2.employeeNumber\n",
      "JOIN offices o ON e1.officeCode = o.officeCode\n",
      "WHERE o.city = 'San Francisco'\n",
      "ORDER BY e1.lastName;\n"
     ]
    }
   ],
   "source": [
    "query_str = \"Retrieve the names of employees and their managers from San Francisco\" \n",
    "add_times=0\n",
    "n_test = n_tests\n",
    "\n",
    "for _ in range(n_test):\n",
    "    start = time.time()\n",
    "    response = query_engine.query(query_str)\n",
    "    end = time.time()\n",
    "    add_times+=end-start\n",
    "\n",
    "print('time: ',add_times/n_test)\n",
    "print('Model Answer: \\n')\n",
    "print(response.response)\n",
    "print('\\nSQL: \\n')\n",
    "print(response.metadata['sql_query'])\n",
    "\n",
    "row = [query_str, response, response.metadata['sql_query'],add_times/n_test]\n",
    "df_benchmark.loc[len(df_benchmark)] = row\n"
   ]
  },
  {
   "cell_type": "markdown",
   "metadata": {},
   "source": [
    "### 8."
   ]
  },
  {
   "cell_type": "code",
   "execution_count": 24,
   "metadata": {},
   "outputs": [
    {
     "name": "stdout",
     "output_type": "stream",
     "text": [
      "time:  38.10796892642975\n",
      "Model Answer: \n",
      "\n",
      "Employees with customers located in the USA and their corresponding office cities are:\n",
      "- Julie Firrelli in Boston\n",
      "- Leslie Jennings in San Francisco\n",
      "- Steve Patterson in Boston\n",
      "- Leslie Thompson in San Francisco\n",
      "- Foon Yue Tseng in NYC\n",
      "- George Vanauf in NYC\n",
      "\n",
      "SQL: \n",
      "\n",
      "SELECT e.firstName, e.lastName, o.city\n",
      "FROM employees e\n",
      "JOIN offices o ON e.officeCode = o.officeCode\n",
      "JOIN customers c ON e.employeeNumber = c.salesRepEmployeeNumber\n",
      "WHERE c.country = 'USA'\n",
      "ORDER BY e.lastName, e.firstName;\n"
     ]
    }
   ],
   "source": [
    "query_str = \"List the employee names and their corresponding office cities for employees who have customers located in the USA.\" \n",
    "add_times=0\n",
    "n_test = n_tests\n",
    "\n",
    "for _ in range(n_test):\n",
    "    start = time.time()\n",
    "    response = query_engine.query(query_str)\n",
    "    end = time.time()\n",
    "    add_times+=end-start\n",
    "\n",
    "print('time: ',add_times/n_test)\n",
    "print('Model Answer: \\n')\n",
    "print(response.response)\n",
    "print('\\nSQL: \\n')\n",
    "print(response.metadata['sql_query'])\n",
    "\n",
    "row = [query_str, response, response.metadata['sql_query'],add_times/n_test]\n",
    "df_benchmark.loc[len(df_benchmark)] = row"
   ]
  },
  {
   "cell_type": "markdown",
   "metadata": {},
   "source": [
    "### 9. count, having count"
   ]
  },
  {
   "cell_type": "code",
   "execution_count": 25,
   "metadata": {},
   "outputs": [
    {
     "name": "stdout",
     "output_type": "stream",
     "text": [
      "time:  8.576993107795715\n",
      "Model Answer: \n",
      "\n",
      "The product lines with more than 5 products are Classic Cars with 38 products, Vintage Cars with 24 products, Motorcycles with 13 products, Planes with 12 products, Trucks and Buses with 11 products, and Ships with 9 products.\n",
      "\n",
      "SQL: \n",
      "\n",
      "SELECT productLine, COUNT(productCode) AS totalProducts\n",
      "FROM products\n",
      "GROUP BY productLine\n",
      "HAVING COUNT(productCode) > 5\n",
      "ORDER BY totalProducts DESC;\n"
     ]
    }
   ],
   "source": [
    "query_str = \"List the product lines with the total number of products in each line, showing only those product lines having more than 5 products.\" \n",
    "add_times=0\n",
    "n_test = n_tests\n",
    "\n",
    "for _ in range(n_test):\n",
    "    start = time.time()\n",
    "    response = query_engine.query(query_str)\n",
    "    end = time.time()\n",
    "    add_times+=end-start\n",
    "\n",
    "print('time: ',add_times/n_test)\n",
    "print('Model Answer: \\n')\n",
    "print(response.response)\n",
    "print('\\nSQL: \\n')\n",
    "print(response.metadata['sql_query'])\n",
    "\n",
    "row = [query_str, response, response.metadata['sql_query'],add_times/n_test]\n",
    "df_benchmark.loc[len(df_benchmark)] = row\n"
   ]
  },
  {
   "cell_type": "markdown",
   "metadata": {},
   "source": [
    "### 10. long output, missing full data in the output"
   ]
  },
  {
   "cell_type": "code",
   "execution_count": 26,
   "metadata": {},
   "outputs": [
    {
     "name": "stdout",
     "output_type": "stream",
     "text": [
      "time:  115.34193754196167\n",
      "Model Answer: \n",
      "\n",
      "Here are some product details along with their product line and supplier information:\n",
      "\n",
      "1. Product Name: 1952 Citroen-15CV\n",
      "   - Product Description: Precision crafted hand-assembled 1:18 scale reproduction of the 1952 15CV, with detailed features.\n",
      "   - Product Line: Classic Cars\n",
      "   - Supplier: Exoto Designs\n",
      "\n",
      "2. Product Name: 1948 Porsche Type 356 Roadster\n",
      "   - Product Description: Features working front and rear suspension, opening engine cover, and more.\n",
      "   - Product Line: Classic Cars\n",
      "   - Supplier: Gearbox Collectibles\n",
      "\n",
      "3. Product Name: 1970 Triumph Spitfire\n",
      "   - Product Description: Features opening and closing doors in white color.\n",
      "   - Product Line: Classic Cars\n",
      "   - Supplier: Min Lin Diecast\n",
      "\n",
      "These are just a few examples of the product details, product line, and supplier information available in the database.\n",
      "\n",
      "SQL: \n",
      "\n",
      "SELECT p.productName, p.productDescription, p.productLine, p.productVendor, pl.textDescription\n",
      "FROM products p\n",
      "JOIN productlines pl ON p.productLine = pl.productLine\n",
      "ORDER BY p.productLine;\n"
     ]
    }
   ],
   "source": [
    "query_str = \"Display product details along with their product line and supplier information.\" \n",
    "add_times=0\n",
    "n_test = n_tests\n",
    "\n",
    "for _ in range(n_test):\n",
    "    start = time.time()\n",
    "    response = query_engine.query(query_str)\n",
    "    end = time.time()\n",
    "    add_times+=end-start\n",
    "\n",
    "print('time: ',add_times/n_test)\n",
    "print('Model Answer: \\n')\n",
    "print(response.response)\n",
    "print('\\nSQL: \\n')\n",
    "print(response.metadata['sql_query'])\n",
    "\n",
    "row = [query_str, response, response.metadata['sql_query'],add_times/n_test]\n",
    "df_benchmark.loc[len(df_benchmark)] = row\n"
   ]
  },
  {
   "cell_type": "markdown",
   "metadata": {},
   "source": [
    "### 11. three tables, count and avg"
   ]
  },
  {
   "cell_type": "code",
   "execution_count": 27,
   "metadata": {},
   "outputs": [
    {
     "name": "stdout",
     "output_type": "stream",
     "text": [
      "time:  12.035310983657837\n",
      "Model Answer: \n",
      "\n",
      "The customer with the highest number of orders is Euro+ Shopping Channel with 259 orders and an average order value of $3168.69. Mini Gifts Distributors Ltd. follows closely with 180 orders and an average order value of $3287.93. Australian Collectors, Co. has placed 55 orders with an average order value of $3283.36. These are the top three customers in terms of order frequency and average order value.\n",
      "\n",
      "SQL: \n",
      "\n",
      "SELECT c.customerNumber, c.customerName, COUNT(o.orderNumber) AS numOrders, AVG(od.quantityOrdered * od.priceEach) AS avgOrderValue\n",
      "FROM customers c\n",
      "JOIN orders o ON c.customerNumber = o.customerNumber\n",
      "JOIN orderdetails od ON o.orderNumber = od.orderNumber\n",
      "GROUP BY c.customerNumber, c.customerName\n",
      "ORDER BY numOrders DESC;\n"
     ]
    }
   ],
   "source": [
    "query_str = \"How many orders has each customer placed, and what is the average order value?\" \n",
    "add_times=0\n",
    "n_test = n_tests\n",
    "\n",
    "for _ in range(n_test):\n",
    "    start = time.time()\n",
    "    response = query_engine.query(query_str)\n",
    "    end = time.time()\n",
    "    add_times+=end-start\n",
    "\n",
    "print('time: ',add_times/n_test)\n",
    "print('Model Answer: \\n')\n",
    "print(response.response)\n",
    "print('\\nSQL: \\n')\n",
    "print(response.metadata['sql_query'])\n",
    "\n",
    "row = [query_str, response, response.metadata['sql_query'],add_times/n_test]\n",
    "df_benchmark.loc[len(df_benchmark)] = row"
   ]
  },
  {
   "cell_type": "markdown",
   "metadata": {},
   "source": [
    "### 12. four tables"
   ]
  },
  {
   "cell_type": "code",
   "execution_count": 28,
   "metadata": {},
   "outputs": [
    {
     "name": "stdout",
     "output_type": "stream",
     "text": [
      "time:  13.125012278556824\n",
      "Model Answer: \n",
      "\n",
      "The last 10 orders included products such as the 1952 Alpine Renault 1300, 1958 Setra Bus, 1940 Ford Pickup Truck, 1939 Cadillac Limousine, 1996 Peterbilt 379 Stake Bed with Outrigger, 1982 Camaro Z28, 1962 LanciaA Delta 16V, 1957 Chevy Pickup, 1998 Chrysler Plymouth Prowler, and 1964 Mercedes Tour Bus. These orders were made by customers from Euro+ Shopping Channel and La Rochelle Gifts on May 31, 2005. The quantities ordered varied between 26 and 54 units per product.\n",
      "\n",
      "SQL: \n",
      "\n",
      "SELECT c.customerName, o.orderDate, p.productName, od.quantityOrdered\n",
      "FROM customers c\n",
      "JOIN orders o ON c.customerNumber = o.customerNumber\n",
      "JOIN orderdetails od ON o.orderNumber = od.orderNumber\n",
      "JOIN products p ON od.productCode = p.productCode\n",
      "ORDER BY o.orderDate DESC\n",
      "LIMIT 10;\n"
     ]
    }
   ],
   "source": [
    "query_str = \"Show the customer name, order date, product name, and quantity ordered for the last 10 orders.\" \n",
    "add_times=0\n",
    "n_test = n_tests\n",
    "\n",
    "for _ in range(n_test):\n",
    "    start = time.time()\n",
    "    response = query_engine.query(query_str)\n",
    "    end = time.time()\n",
    "    add_times+=end-start\n",
    "\n",
    "print('time: ',add_times/n_test)\n",
    "print('Model Answer: \\n')\n",
    "print(response.response)\n",
    "print('\\nSQL: \\n')\n",
    "print(response.metadata['sql_query'])\n",
    "\n",
    "row = [query_str, response, response.metadata['sql_query'],add_times/n_test]\n",
    "df_benchmark.loc[len(df_benchmark)] = row"
   ]
  },
  {
   "cell_type": "markdown",
   "metadata": {},
   "source": [
    "### 13. four tables"
   ]
  },
  {
   "cell_type": "code",
   "execution_count": 29,
   "metadata": {},
   "outputs": [
    {
     "name": "stdout",
     "output_type": "stream",
     "text": [
      "time:  11.870614171028137\n",
      "Model Answer: \n",
      "\n",
      "The top 5 products ordered by customers in the USA are the America West Airlines B757-200, F/A 18 Hornet 1/72, 1917 Grand Touring Sedan, 1949 Jaguar XK 120, and 1957 Ford Thunderbird. These products range from model airplanes to classic car replicas, each with intricate details and features that make them popular among customers.\n",
      "\n",
      "SQL: \n",
      "\n",
      "SELECT p.productName, p.productDescription\n",
      "FROM products p\n",
      "JOIN orderdetails od ON p.productCode = od.productCode\n",
      "JOIN orders o ON od.orderNumber = o.orderNumber\n",
      "WHERE o.customerNumber IN (SELECT customerNumber FROM customers WHERE country = 'USA')\n",
      "ORDER BY od.quantityOrdered DESC\n",
      "LIMIT 5;\n"
     ]
    }
   ],
   "source": [
    "query_str = \"Retrieve the product names and descriptions for the 5 products that have been ordered the most by customers located in the USA.\" \n",
    "add_times=0\n",
    "n_test = n_tests\n",
    "\n",
    "for _ in range(n_test):\n",
    "    start = time.time()\n",
    "    response = query_engine.query(query_str)\n",
    "    end = time.time()\n",
    "    add_times+=end-start\n",
    "\n",
    "print('time: ',add_times/n_test)\n",
    "print('Model Answer: \\n')\n",
    "print(response.response)\n",
    "print('\\nSQL: \\n')\n",
    "print(response.metadata['sql_query'])\n",
    "\n",
    "row = [query_str, response, response.metadata['sql_query'],add_times/n_test]\n",
    "df_benchmark.loc[len(df_benchmark)] = row\n",
    "\n"
   ]
  },
  {
   "cell_type": "markdown",
   "metadata": {},
   "source": [
    "### 14"
   ]
  },
  {
   "cell_type": "code",
   "execution_count": 30,
   "metadata": {},
   "outputs": [
    {
     "name": "stdout",
     "output_type": "stream",
     "text": [
      "time:  11.101412773132324\n",
      "Model Answer: \n",
      "\n",
      "The average number of days it takes to ship each product from the order date to the shipped date ranges from approximately 3 to 5.8 days. Products like the 1970 Triumph Spitfire and the 2001 Ferrari Enzo have longer average shipping times, while items like the 1940 Ford Delivery Sedan have shorter average shipping times.\n",
      "\n",
      "SQL: \n",
      "\n",
      "SELECT p.productCode, p.productName, AVG(DATEDIFF(o.shippedDate, o.orderDate)) AS avg_shipping_days\n",
      "FROM products p\n",
      "JOIN orderdetails od ON p.productCode = od.productCode\n",
      "JOIN orders o ON od.orderNumber = o.orderNumber\n",
      "WHERE o.shippedDate IS NOT NULL\n",
      "GROUP BY p.productCode, p.productName\n",
      "ORDER BY avg_shipping_days DESC;\n"
     ]
    }
   ],
   "source": [
    "query_str = \"Calculate the average number of days it takes to ship each product from the order date to the shipped date.\"\n",
    "add_times=0\n",
    "n_test = n_tests\n",
    "\n",
    "for _ in range(n_test):\n",
    "    start = time.time()\n",
    "    response = query_engine.query(query_str)\n",
    "    end = time.time()\n",
    "    add_times+=end-start\n",
    "\n",
    "print('time: ',add_times/n_test)\n",
    "print('Model Answer: \\n')\n",
    "print(response.response)\n",
    "print('\\nSQL: \\n')\n",
    "print(response.metadata['sql_query'])\n",
    "\n",
    "#fixed question= \"Calculate the average number of days it takes to ship each product\""
   ]
  },
  {
   "cell_type": "markdown",
   "metadata": {},
   "source": [
    "### 15."
   ]
  },
  {
   "cell_type": "code",
   "execution_count": 31,
   "metadata": {},
   "outputs": [
    {
     "name": "stdout",
     "output_type": "stream",
     "text": [
      "time:  8.822625279426575\n",
      "Model Answer: \n",
      "\n",
      "There are 34 customers who have placed more than one order in the USA.\n",
      "\n",
      "SQL: \n",
      "\n",
      "SELECT COUNT(DISTINCT c.customerNumber) AS num_customers\n",
      "FROM customers c\n",
      "JOIN orders o ON c.customerNumber = o.customerNumber\n",
      "WHERE c.country = 'USA'\n",
      "GROUP BY c.customerNumber\n",
      "HAVING COUNT(o.orderNumber) > 1\n"
     ]
    }
   ],
   "source": [
    "query_str = \"Find the number of customers who have placed more than one order in USA\" \n",
    "\n",
    "response = query_engine.query(query_str)\n",
    "add_times=0\n",
    "n_test = n_tests\n",
    "\n",
    "for _ in range(n_test):\n",
    "    start = time.time()\n",
    "    response = query_engine.query(query_str)\n",
    "    end = time.time()\n",
    "    add_times+=end-start\n",
    "\n",
    "print('time: ',add_times/n_test)\n",
    "print('Model Answer: \\n')\n",
    "print(response.response)\n",
    "print('\\nSQL: \\n')\n",
    "print(response.metadata['sql_query'])\n",
    "\n",
    "row = [query_str, response, response.metadata['sql_query'],add_times/n_test]\n",
    "df_benchmark.loc[len(df_benchmark)] = row"
   ]
  },
  {
   "cell_type": "markdown",
   "metadata": {},
   "source": [
    "### 16"
   ]
  },
  {
   "cell_type": "code",
   "execution_count": 32,
   "metadata": {},
   "outputs": [
    {
     "name": "stdout",
     "output_type": "stream",
     "text": [
      "time:  8.941961407661438\n",
      "Model Answer: \n",
      "\n",
      "The total amount sold for the product line Trains is 2818. Unfortunately, there is no data available for the total amount sold for the product line Cars in the query results.\n",
      "\n",
      "SQL: \n",
      "\n",
      "SELECT p.productLine, SUM(od.quantityOrdered) AS totalAmountSold\n",
      "FROM products p\n",
      "JOIN orderdetails od ON p.productCode = od.productCode\n",
      "WHERE p.productLine IN ('Cars', 'Trains')\n",
      "GROUP BY p.productLine\n",
      "ORDER BY totalAmountSold DESC;\n"
     ]
    }
   ],
   "source": [
    "import time\n",
    "query_str = \"Show me the total amount sold comparison between the product line Cars vs Trains\"\n",
    "\n",
    "response = query_engine.query(query_str)\n",
    "add_times=0\n",
    "n_test = n_tests\n",
    "\n",
    "for _ in range(n_test):\n",
    "    start = time.time()\n",
    "    response = query_engine.query(query_str)\n",
    "    end = time.time()\n",
    "    add_times+=end-start\n",
    "\n",
    "print('time: ',add_times/n_test)\n",
    "print('Model Answer: \\n')\n",
    "print(response.response)\n",
    "print('\\nSQL: \\n')\n",
    "print(response.metadata['sql_query'])\n",
    "\n",
    "row = [query_str, response, response.metadata['sql_query'],add_times/n_test]\n",
    "df_benchmark.loc[len(df_benchmark)] = row"
   ]
  },
  {
   "cell_type": "markdown",
   "metadata": {},
   "source": [
    "### 17."
   ]
  },
  {
   "cell_type": "code",
   "execution_count": 33,
   "metadata": {},
   "outputs": [
    {
     "name": "stdout",
     "output_type": "stream",
     "text": [
      "time:  29.070027709007263\n",
      "Model Answer: \n",
      "\n",
      "The Sales Representatives from the US are Julie Firrelli, Leslie Jennings, Steve Patterson, Leslie Thompson, Foon Yue Tseng, and George Vanauf.\n",
      "\n",
      "SQL: \n",
      "\n",
      "SELECT e.employeeNumber, e.lastName, e.firstName, e.jobTitle, e.email\n",
      "FROM employees e\n",
      "JOIN offices o ON e.officeCode = o.officeCode\n",
      "WHERE e.jobTitle = 'Sales Rep' AND o.country = 'USA'\n",
      "ORDER BY e.lastName, e.firstName;\n"
     ]
    }
   ],
   "source": [
    "query_str = \"Who are the Sales Representative from US?\"\n",
    "\n",
    "response = query_engine.query(query_str)\n",
    "add_times=0\n",
    "n_test = n_tests\n",
    "\n",
    "for _ in range(n_test):\n",
    "    start = time.time()\n",
    "    response = query_engine.query(query_str)\n",
    "    end = time.time()\n",
    "    add_times+=end-start\n",
    "\n",
    "print('time: ',add_times/n_test)\n",
    "print('Model Answer: \\n')\n",
    "print(response.response)\n",
    "print('\\nSQL: \\n')\n",
    "print(response.metadata['sql_query'])\n",
    "\n",
    "row = [query_str, response, response.metadata['sql_query'],add_times/n_test]\n",
    "df_benchmark.loc[len(df_benchmark)] = row"
   ]
  },
  {
   "cell_type": "code",
   "execution_count": 34,
   "metadata": {},
   "outputs": [],
   "source": [
    "df_benchmark.to_csv('current-2.csv')"
   ]
  }
 ],
 "metadata": {
  "kernelspec": {
   "display_name": "llamaindex",
   "language": "python",
   "name": "python3"
  },
  "language_info": {
   "codemirror_mode": {
    "name": "ipython",
    "version": 3
   },
   "file_extension": ".py",
   "mimetype": "text/x-python",
   "name": "python",
   "nbconvert_exporter": "python",
   "pygments_lexer": "ipython3",
   "version": "3.11.8"
  },
  "orig_nbformat": 4
 },
 "nbformat": 4,
 "nbformat_minor": 2
}
